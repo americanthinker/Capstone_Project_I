{
 "cells": [
  {
   "cell_type": "code",
   "execution_count": 24,
   "metadata": {},
   "outputs": [],
   "source": [
    "vets = pd.read_csv('../data/vets.csv', encoding = \"ISO-8859-1\")"
   ]
  },
  {
   "cell_type": "code",
   "execution_count": 25,
   "metadata": {},
   "outputs": [
    {
     "name": "stdout",
     "output_type": "stream",
     "text": [
      "<class 'pandas.core.frame.DataFrame'>\n",
      "RangeIndex: 885 entries, 0 to 884\n",
      "Data columns (total 45 columns):\n",
      " #   Column                                   Non-Null Count  Dtype  \n",
      "---  ------                                   --------------  -----  \n",
      " 0   Id                                       885 non-null    object \n",
      " 1   AccountId                                885 non-null    object \n",
      " 2   Title                                    5 non-null      object \n",
      " 3   Birthdate                                79 non-null     object \n",
      " 4   OwnerId                                  885 non-null    object \n",
      " 5   CreatedDate                              885 non-null    object \n",
      " 6   CreatedById                              885 non-null    object \n",
      " 7   LastModifiedDate                         885 non-null    object \n",
      " 8   LastModifiedById                         885 non-null    object \n",
      " 9   SystemModstamp                           885 non-null    object \n",
      " 10  LastActivityDate                         500 non-null    object \n",
      " 11  Location                                 816 non-null    object \n",
      " 12  City                                     798 non-null    object \n",
      " 13  State                                    800 non-null    object \n",
      " 14  How_did_you_hear_about_Elite_Meet        662 non-null    object \n",
      " 15  Are_you_currently_seeking_to_join_Elite  652 non-null    object \n",
      " 16  Your_transition_to_civilian_life_begin   553 non-null    object \n",
      " 17  Undergrad                                747 non-null    object \n",
      " 18  Undergraduate_School                     796 non-null    object \n",
      " 19  Undergrad_major                          800 non-null    object \n",
      " 20  Grad_Degree                              549 non-null    object \n",
      " 21  Graduate_School                          355 non-null    object \n",
      " 22  Grad_Degree_Type                         136 non-null    object \n",
      " 23  Years_of_Service                         835 non-null    object \n",
      " 24  Military_specialty_in_real_words         869 non-null    object \n",
      " 25  Whichcourse                              819 non-null    object \n",
      " 26  When_did_you_graduate                    579 non-null    object \n",
      " 27  What_was_your_first_unit_after_grad      715 non-null    object \n",
      " 28  What_locations_do_you_WANT_to_live_in    702 non-null    object \n",
      " 29  Where_do_you_NOT_WANT_to_live            528 non-null    object \n",
      " 30  What_would_be_your_ideal_next_job        642 non-null    object \n",
      " 31  Target_Industries_Pls_pick_up_to_Three   694 non-null    object \n",
      " 32  of_informational_interviews_completed    517 non-null    object \n",
      " 33  of_job_formal_interviews_completed       498 non-null    object \n",
      " 34  of_counting_getting_a_job_through_EM     596 non-null    object \n",
      " 35  What_s_more_important_to_you             689 non-null    object \n",
      " 36  How_mobile_are_you_and_your_family       624 non-null    object \n",
      " 37  Current_Industry                         0 non-null      float64\n",
      " 38  I_d_like_to_participate_in               0 non-null      float64\n",
      " 39  Are_you_actively_recruiting_for_a_job    0 non-null      float64\n",
      " 40  What_positions_are_you_recruiting_for    0 non-null      float64\n",
      " 41  Did_you_serve_in_the_military            0 non-null      float64\n",
      " 42  If_so_what_was_your_military_job         0 non-null      float64\n",
      " 43  Company                                  0 non-null      float64\n",
      " 44  Lead_RecordType                          885 non-null    object \n",
      "dtypes: float64(7), object(38)\n",
      "memory usage: 311.3+ KB\n"
     ]
    }
   ],
   "source": [
    "vets.info()"
   ]
  },
  {
   "cell_type": "markdown",
   "metadata": {},
   "source": [
    "##### Had to do some additional wrangling in Excel to get all the values to 0 for the columns where professionals were supposed to enter data, but not veterans"
   ]
  },
  {
   "cell_type": "code",
   "execution_count": 31,
   "metadata": {},
   "outputs": [],
   "source": [
    "cols = vets.columns[37:44]\n",
    "vets.drop(cols, inplace=True, axis=1)"
   ]
  },
  {
   "cell_type": "code",
   "execution_count": 32,
   "metadata": {},
   "outputs": [
    {
     "name": "stdout",
     "output_type": "stream",
     "text": [
      "<class 'pandas.core.frame.DataFrame'>\n",
      "RangeIndex: 885 entries, 0 to 884\n",
      "Data columns (total 38 columns):\n",
      " #   Column                                   Non-Null Count  Dtype \n",
      "---  ------                                   --------------  ----- \n",
      " 0   Id                                       885 non-null    object\n",
      " 1   AccountId                                885 non-null    object\n",
      " 2   Title                                    5 non-null      object\n",
      " 3   Birthdate                                79 non-null     object\n",
      " 4   OwnerId                                  885 non-null    object\n",
      " 5   CreatedDate                              885 non-null    object\n",
      " 6   CreatedById                              885 non-null    object\n",
      " 7   LastModifiedDate                         885 non-null    object\n",
      " 8   LastModifiedById                         885 non-null    object\n",
      " 9   SystemModstamp                           885 non-null    object\n",
      " 10  LastActivityDate                         500 non-null    object\n",
      " 11  Location                                 816 non-null    object\n",
      " 12  City                                     798 non-null    object\n",
      " 13  State                                    800 non-null    object\n",
      " 14  How_did_you_hear_about_Elite_Meet        662 non-null    object\n",
      " 15  Are_you_currently_seeking_to_join_Elite  652 non-null    object\n",
      " 16  Your_transition_to_civilian_life_begin   553 non-null    object\n",
      " 17  Undergrad                                747 non-null    object\n",
      " 18  Undergraduate_School                     796 non-null    object\n",
      " 19  Undergrad_major                          800 non-null    object\n",
      " 20  Grad_Degree                              549 non-null    object\n",
      " 21  Graduate_School                          355 non-null    object\n",
      " 22  Grad_Degree_Type                         136 non-null    object\n",
      " 23  Years_of_Service                         835 non-null    object\n",
      " 24  Military_specialty_in_real_words         869 non-null    object\n",
      " 25  Whichcourse                              819 non-null    object\n",
      " 26  When_did_you_graduate                    579 non-null    object\n",
      " 27  What_was_your_first_unit_after_grad      715 non-null    object\n",
      " 28  What_locations_do_you_WANT_to_live_in    702 non-null    object\n",
      " 29  Where_do_you_NOT_WANT_to_live            528 non-null    object\n",
      " 30  What_would_be_your_ideal_next_job        642 non-null    object\n",
      " 31  Target_Industries_Pls_pick_up_to_Three   694 non-null    object\n",
      " 32  of_informational_interviews_completed    517 non-null    object\n",
      " 33  of_job_formal_interviews_completed       498 non-null    object\n",
      " 34  of_counting_getting_a_job_through_EM     596 non-null    object\n",
      " 35  What_s_more_important_to_you             689 non-null    object\n",
      " 36  How_mobile_are_you_and_your_family       624 non-null    object\n",
      " 37  Lead_RecordType                          885 non-null    object\n",
      "dtypes: object(38)\n",
      "memory usage: 262.9+ KB\n"
     ]
    }
   ],
   "source": [
    "vets.info()"
   ]
  },
  {
   "cell_type": "code",
   "execution_count": 35,
   "metadata": {},
   "outputs": [],
   "source": [
    "#drop non-essential \"Title\" column\n",
    "vets.drop('Title', axis=1, inplace=True)"
   ]
  },
  {
   "cell_type": "markdown",
   "metadata": {},
   "source": [
    "#### Since I am only focusing on the veteran attributes themselves, I'm dropping the admin data columns.  I have a previous version of this data set saved, so if necessary I can always go back for further analysis"
   ]
  },
  {
   "cell_type": "code",
   "execution_count": 42,
   "metadata": {},
   "outputs": [],
   "source": [
    "vets.drop('AccountId', axis=1, inplace=True)"
   ]
  },
  {
   "cell_type": "code",
   "execution_count": 48,
   "metadata": {},
   "outputs": [],
   "source": [
    "admin_cols = vets.columns[4:9]\n",
    "vets.drop(admin_cols, axis=1, inplace=True)"
   ]
  },
  {
   "cell_type": "code",
   "execution_count": 52,
   "metadata": {},
   "outputs": [
    {
     "name": "stdout",
     "output_type": "stream",
     "text": [
      "<class 'pandas.core.frame.DataFrame'>\n",
      "RangeIndex: 885 entries, 0 to 884\n",
      "Data columns (total 30 columns):\n",
      " #   Column                                   Non-Null Count  Dtype \n",
      "---  ------                                   --------------  ----- \n",
      " 0   Id                                       885 non-null    object\n",
      " 1   Birthdate                                79 non-null     object\n",
      " 2   CreatedDate                              885 non-null    object\n",
      " 3   Location                                 816 non-null    object\n",
      " 4   City                                     798 non-null    object\n",
      " 5   State                                    800 non-null    object\n",
      " 6   How_did_you_hear_about_Elite_Meet        662 non-null    object\n",
      " 7   Are_you_currently_seeking_to_join_Elite  652 non-null    object\n",
      " 8   Your_transition_to_civilian_life_begin   553 non-null    object\n",
      " 9   Undergrad                                747 non-null    object\n",
      " 10  Undergraduate_School                     796 non-null    object\n",
      " 11  Undergrad_major                          800 non-null    object\n",
      " 12  Grad_Degree                              549 non-null    object\n",
      " 13  Graduate_School                          355 non-null    object\n",
      " 14  Grad_Degree_Type                         136 non-null    object\n",
      " 15  Years_of_Service                         835 non-null    object\n",
      " 16  Military_specialty_in_real_words         869 non-null    object\n",
      " 17  Whichcourse                              819 non-null    object\n",
      " 18  When_did_you_graduate                    579 non-null    object\n",
      " 19  What_was_your_first_unit_after_grad      715 non-null    object\n",
      " 20  What_locations_do_you_WANT_to_live_in    702 non-null    object\n",
      " 21  Where_do_you_NOT_WANT_to_live            528 non-null    object\n",
      " 22  What_would_be_your_ideal_next_job        642 non-null    object\n",
      " 23  Target_Industries_Pls_pick_up_to_Three   694 non-null    object\n",
      " 24  of_informational_interviews_completed    517 non-null    object\n",
      " 25  of_job_formal_interviews_completed       498 non-null    object\n",
      " 26  of_counting_getting_a_job_through_EM     596 non-null    object\n",
      " 27  What_s_more_important_to_you             689 non-null    object\n",
      " 28  How_mobile_are_you_and_your_family       624 non-null    object\n",
      " 29  Lead_RecordType                          885 non-null    object\n",
      "dtypes: object(30)\n",
      "memory usage: 207.5+ KB\n"
     ]
    }
   ],
   "source": [
    "vets.drop('OwnerId', axis=1, inplace=True)\n",
    "vets.info()"
   ]
  },
  {
   "cell_type": "markdown",
   "metadata": {},
   "source": [
    "#### Ok, I've got all the columns that I want to keep, now it's .fillna time!  For now it looks like I am working with 885 indiviudals with roughly 29 features.  This is approximately equal to the Elite Meet membership, which currently totals 1,040 members"
   ]
  },
  {
   "cell_type": "code",
   "execution_count": 56,
   "metadata": {},
   "outputs": [
    {
     "data": {
      "text/plain": [
       "5      3/14/89 0:00\n",
       "6      9/29/83 0:00\n",
       "7       7/4/92 0:00\n",
       "8      2/26/77 0:00\n",
       "9      4/12/75 0:00\n",
       "10     12/8/88 0:00\n",
       "11     1/11/82 0:00\n",
       "12    10/22/88 0:00\n",
       "13    12/25/75 0:00\n",
       "14     9/29/91 0:00\n",
       "Name: Birthdate, dtype: object"
      ]
     },
     "execution_count": 56,
     "metadata": {},
     "output_type": "execute_result"
    }
   ],
   "source": [
    "#review what the birthday column looks like\n",
    "vets['Birthdate'][vets['Birthdate'].notnull()].head(10)"
   ]
  },
  {
   "cell_type": "markdown",
   "metadata": {},
   "source": [
    "#### Most veteran applicatns did not list a birthdate, so I'll need to approximate most ages by using the \"Years of Service\" entry as a starting point"
   ]
  },
  {
   "cell_type": "code",
   "execution_count": 59,
   "metadata": {},
   "outputs": [
    {
     "data": {
      "text/html": [
       "<div>\n",
       "<style scoped>\n",
       "    .dataframe tbody tr th:only-of-type {\n",
       "        vertical-align: middle;\n",
       "    }\n",
       "\n",
       "    .dataframe tbody tr th {\n",
       "        vertical-align: top;\n",
       "    }\n",
       "\n",
       "    .dataframe thead th {\n",
       "        text-align: right;\n",
       "    }\n",
       "</style>\n",
       "<table border=\"1\" class=\"dataframe\">\n",
       "  <thead>\n",
       "    <tr style=\"text-align: right;\">\n",
       "      <th></th>\n",
       "      <th>Id</th>\n",
       "      <th>Birthdate</th>\n",
       "      <th>CreatedDate</th>\n",
       "      <th>Location</th>\n",
       "      <th>City</th>\n",
       "      <th>State</th>\n",
       "      <th>How_did_you_hear_about_Elite_Meet</th>\n",
       "      <th>Are_you_currently_seeking_to_join_Elite</th>\n",
       "      <th>Your_transition_to_civilian_life_begin</th>\n",
       "      <th>Undergrad</th>\n",
       "      <th>Undergraduate_School</th>\n",
       "      <th>Undergrad_major</th>\n",
       "      <th>Grad_Degree</th>\n",
       "      <th>Graduate_School</th>\n",
       "      <th>Grad_Degree_Type</th>\n",
       "      <th>Years_of_Service</th>\n",
       "      <th>Military_specialty_in_real_words</th>\n",
       "      <th>Whichcourse</th>\n",
       "      <th>When_did_you_graduate</th>\n",
       "      <th>What_was_your_first_unit_after_grad</th>\n",
       "      <th>What_locations_do_you_WANT_to_live_in</th>\n",
       "      <th>Where_do_you_NOT_WANT_to_live</th>\n",
       "      <th>What_would_be_your_ideal_next_job</th>\n",
       "      <th>Target_Industries_Pls_pick_up_to_Three</th>\n",
       "      <th>of_informational_interviews_completed</th>\n",
       "      <th>of_job_formal_interviews_completed</th>\n",
       "      <th>of_counting_getting_a_job_through_EM</th>\n",
       "      <th>What_s_more_important_to_you</th>\n",
       "      <th>How_mobile_are_you_and_your_family</th>\n",
       "      <th>Lead_RecordType</th>\n",
       "    </tr>\n",
       "  </thead>\n",
       "  <tbody>\n",
       "    <tr>\n",
       "      <th>1</th>\n",
       "      <td>003f400000cZo1RAAS</td>\n",
       "      <td>NaN</td>\n",
       "      <td>10/16/18 15:40</td>\n",
       "      <td>TX</td>\n",
       "      <td>NaN</td>\n",
       "      <td>TX</td>\n",
       "      <td>NaN</td>\n",
       "      <td>NaN</td>\n",
       "      <td>NaN</td>\n",
       "      <td>NaN</td>\n",
       "      <td>NaN</td>\n",
       "      <td>NaN</td>\n",
       "      <td>NaN</td>\n",
       "      <td>NaN</td>\n",
       "      <td>NaN</td>\n",
       "      <td>NaN</td>\n",
       "      <td>NaN</td>\n",
       "      <td>Crewman Qualification Training (SWCC)</td>\n",
       "      <td>NaN</td>\n",
       "      <td>NaN</td>\n",
       "      <td>NaN</td>\n",
       "      <td>NaN</td>\n",
       "      <td>NaN</td>\n",
       "      <td>NaN</td>\n",
       "      <td>NaN</td>\n",
       "      <td>NaN</td>\n",
       "      <td>NaN</td>\n",
       "      <td>NaN</td>\n",
       "      <td>NaN</td>\n",
       "      <td>Veteran</td>\n",
       "    </tr>\n",
       "    <tr>\n",
       "      <th>3</th>\n",
       "      <td>003f400000cZo3EAAS</td>\n",
       "      <td>NaN</td>\n",
       "      <td>10/16/18 15:40</td>\n",
       "      <td>Chattanooga, TN</td>\n",
       "      <td>Chattanooga</td>\n",
       "      <td>TN</td>\n",
       "      <td>NaN</td>\n",
       "      <td>NaN</td>\n",
       "      <td>NaN</td>\n",
       "      <td>NaN</td>\n",
       "      <td>NaN</td>\n",
       "      <td>NaN</td>\n",
       "      <td>Complete</td>\n",
       "      <td>NaN</td>\n",
       "      <td>MBA- Vandy</td>\n",
       "      <td>NaN</td>\n",
       "      <td>NaN</td>\n",
       "      <td>Q Course (SF)</td>\n",
       "      <td>NaN</td>\n",
       "      <td>NaN</td>\n",
       "      <td>NaN</td>\n",
       "      <td>NaN</td>\n",
       "      <td>NaN</td>\n",
       "      <td>NaN</td>\n",
       "      <td>NaN</td>\n",
       "      <td>NaN</td>\n",
       "      <td>NaN</td>\n",
       "      <td>NaN</td>\n",
       "      <td>NaN</td>\n",
       "      <td>Veteran</td>\n",
       "    </tr>\n",
       "    <tr>\n",
       "      <th>4</th>\n",
       "      <td>003f400000cZo3LAAS</td>\n",
       "      <td>NaN</td>\n",
       "      <td>10/16/18 15:40</td>\n",
       "      <td>San Francisco,CA</td>\n",
       "      <td>San Francisco</td>\n",
       "      <td>CA</td>\n",
       "      <td>NaN</td>\n",
       "      <td>NaN</td>\n",
       "      <td>NaN</td>\n",
       "      <td>NaN</td>\n",
       "      <td>NaN</td>\n",
       "      <td>NaN</td>\n",
       "      <td>NaN</td>\n",
       "      <td>NaN</td>\n",
       "      <td>NaN</td>\n",
       "      <td>NaN</td>\n",
       "      <td>NaN</td>\n",
       "      <td>Winged as a fighter pilot (Flight Officer)</td>\n",
       "      <td>NaN</td>\n",
       "      <td>NaN</td>\n",
       "      <td>NaN</td>\n",
       "      <td>NaN</td>\n",
       "      <td>NaN</td>\n",
       "      <td>NaN</td>\n",
       "      <td>NaN</td>\n",
       "      <td>NaN</td>\n",
       "      <td>NaN</td>\n",
       "      <td>NaN</td>\n",
       "      <td>NaN</td>\n",
       "      <td>Veteran</td>\n",
       "    </tr>\n",
       "    <tr>\n",
       "      <th>84</th>\n",
       "      <td>003f400000fo4ZTAAY</td>\n",
       "      <td>NaN</td>\n",
       "      <td>10/31/18 14:55</td>\n",
       "      <td>Venice Beach,CA</td>\n",
       "      <td>Venice Beach</td>\n",
       "      <td>CA</td>\n",
       "      <td>Linkedin - SEE SHERI S</td>\n",
       "      <td>NaN</td>\n",
       "      <td>NaN</td>\n",
       "      <td>NaN</td>\n",
       "      <td>NaN</td>\n",
       "      <td>NaN</td>\n",
       "      <td>NaN</td>\n",
       "      <td>NaN</td>\n",
       "      <td>NaN</td>\n",
       "      <td>NaN</td>\n",
       "      <td>NaN</td>\n",
       "      <td>NaN</td>\n",
       "      <td>NaN</td>\n",
       "      <td>NaN</td>\n",
       "      <td>NaN</td>\n",
       "      <td>NaN</td>\n",
       "      <td>NaN</td>\n",
       "      <td>NaN</td>\n",
       "      <td>NaN</td>\n",
       "      <td>NaN</td>\n",
       "      <td>NaN</td>\n",
       "      <td>NaN</td>\n",
       "      <td>NaN</td>\n",
       "      <td>Veteran</td>\n",
       "    </tr>\n",
       "    <tr>\n",
       "      <th>116</th>\n",
       "      <td>003f400000oOLf8AAG</td>\n",
       "      <td>NaN</td>\n",
       "      <td>1/24/19 13:40</td>\n",
       "      <td>Honolulu,HI</td>\n",
       "      <td>Honolulu</td>\n",
       "      <td>HI</td>\n",
       "      <td>NaN</td>\n",
       "      <td>NaN</td>\n",
       "      <td>NaN</td>\n",
       "      <td>NaN</td>\n",
       "      <td>NaN</td>\n",
       "      <td>NaN</td>\n",
       "      <td>None</td>\n",
       "      <td>NaN</td>\n",
       "      <td>NaN</td>\n",
       "      <td>NaN</td>\n",
       "      <td>Special Forces Medical Sergeant?</td>\n",
       "      <td>Q Course (SF)</td>\n",
       "      <td>NaN</td>\n",
       "      <td>NaN</td>\n",
       "      <td>NaN</td>\n",
       "      <td>NaN</td>\n",
       "      <td>NaN</td>\n",
       "      <td>NaN</td>\n",
       "      <td>NaN</td>\n",
       "      <td>NaN</td>\n",
       "      <td>NaN</td>\n",
       "      <td>NaN</td>\n",
       "      <td>NaN</td>\n",
       "      <td>Veteran</td>\n",
       "    </tr>\n",
       "  </tbody>\n",
       "</table>\n",
       "</div>"
      ],
      "text/plain": [
       "                     Id Birthdate     CreatedDate          Location           City State How_did_you_hear_about_Elite_Meet Are_you_currently_seeking_to_join_Elite Your_transition_to_civilian_life_begin Undergrad Undergraduate_School Undergrad_major Grad_Degree Graduate_School Grad_Degree_Type Years_of_Service  Military_specialty_in_real_words                                 Whichcourse When_did_you_graduate What_was_your_first_unit_after_grad What_locations_do_you_WANT_to_live_in Where_do_you_NOT_WANT_to_live What_would_be_your_ideal_next_job Target_Industries_Pls_pick_up_to_Three of_informational_interviews_completed of_job_formal_interviews_completed of_counting_getting_a_job_through_EM What_s_more_important_to_you How_mobile_are_you_and_your_family Lead_RecordType\n",
       "1    003f400000cZo1RAAS       NaN  10/16/18 15:40                TX            NaN    TX                               NaN                                     NaN                                    NaN       NaN                  NaN             NaN         NaN             NaN              NaN              NaN                               NaN       Crewman Qualification Training (SWCC)                   NaN                                 NaN                                   NaN                           NaN                               NaN                                    NaN                                   NaN                                NaN                                  NaN                          NaN                                NaN         Veteran\n",
       "3    003f400000cZo3EAAS       NaN  10/16/18 15:40   Chattanooga, TN    Chattanooga    TN                               NaN                                     NaN                                    NaN       NaN                  NaN             NaN    Complete             NaN       MBA- Vandy              NaN                               NaN                               Q Course (SF)                   NaN                                 NaN                                   NaN                           NaN                               NaN                                    NaN                                   NaN                                NaN                                  NaN                          NaN                                NaN         Veteran\n",
       "4    003f400000cZo3LAAS       NaN  10/16/18 15:40  San Francisco,CA  San Francisco    CA                               NaN                                     NaN                                    NaN       NaN                  NaN             NaN         NaN             NaN              NaN              NaN                               NaN  Winged as a fighter pilot (Flight Officer)                   NaN                                 NaN                                   NaN                           NaN                               NaN                                    NaN                                   NaN                                NaN                                  NaN                          NaN                                NaN         Veteran\n",
       "84   003f400000fo4ZTAAY       NaN  10/31/18 14:55   Venice Beach,CA   Venice Beach    CA            Linkedin - SEE SHERI S                                     NaN                                    NaN       NaN                  NaN             NaN         NaN             NaN              NaN              NaN                               NaN                                         NaN                   NaN                                 NaN                                   NaN                           NaN                               NaN                                    NaN                                   NaN                                NaN                                  NaN                          NaN                                NaN         Veteran\n",
       "116  003f400000oOLf8AAG       NaN   1/24/19 13:40       Honolulu,HI       Honolulu    HI                               NaN                                     NaN                                    NaN       NaN                  NaN             NaN        None             NaN              NaN              NaN  Special Forces Medical Sergeant?                               Q Course (SF)                   NaN                                 NaN                                   NaN                           NaN                               NaN                                    NaN                                   NaN                                NaN                                  NaN                          NaN                                NaN         Veteran"
      ]
     },
     "execution_count": 59,
     "metadata": {},
     "output_type": "execute_result"
    }
   ],
   "source": [
    "vets[(vets['Birthdate'].isnull()) & (vets['Years_of_Service'].isnull())].head()"
   ]
  },
  {
   "cell_type": "markdown",
   "metadata": {},
   "source": [
    "#### I will need to create a new column titled \"Age\" as this is an important metric that I want to analyze.  835 out of 885 entries have a \"Years of Service\" entry, so that only leaves 50 entries that will require some additional sleuth work.  As shown above, the real challenge will be approximating an age for those who did not enter a Birthdate and did not give Years of Service.  Fortunately some listed the year that they graduated from their service school, which can be used as another age approximator.  "
   ]
  },
  {
   "cell_type": "code",
   "execution_count": 67,
   "metadata": {},
   "outputs": [
    {
     "data": {
      "text/plain": [
       "1                                       NaN\n",
       "3                                       NaN\n",
       "4                                       NaN\n",
       "7                                      Four\n",
       "30                               Twenty Two\n",
       "43                                      9.5\n",
       "44                                      NaN\n",
       "45                                      23+\n",
       "55                                      28+\n",
       "57                                      8.5\n",
       "60                7 (at date of transition)\n",
       "61     11 (will be at 12 when I transition)\n",
       "62       16+ (12+ active,currently reserve)\n",
       "69                       12 years,10 months\n",
       "77                  19 (20 on 01 June 2019)\n",
       "79                                      18+\n",
       "81                                      9.5\n",
       "83                                      9.5\n",
       "84                                      NaN\n",
       "90                                      3.5\n",
       "94                                      7.5\n",
       "103                                     6.5\n",
       "116                                     NaN\n",
       "129                                     6.5\n",
       "145                                     4.5\n",
       "Name: Years_of_Service, dtype: object"
      ]
     },
     "execution_count": 67,
     "metadata": {},
     "output_type": "execute_result"
    }
   ],
   "source": [
    "vets['Years_of_Service'][vets['Years_of_Service'].apply(lambda x: len(str(x)) > 2)].head(25)"
   ]
  },
  {
   "cell_type": "markdown",
   "metadata": {},
   "source": [
    "#### Here again we can see the cons of allowing free form data entry on something as simple as Years of Service.  Given the mess, it's back to Excel for additional cleaning to remove all non-integer/float values."
   ]
  },
  {
   "cell_type": "code",
   "execution_count": 68,
   "metadata": {},
   "outputs": [],
   "source": [
    "vets.to_csv('../data/vets2.csv', index=False, header=True)"
   ]
  },
  {
   "cell_type": "code",
   "execution_count": null,
   "metadata": {},
   "outputs": [],
   "source": []
  }
 ],
 "metadata": {
  "kernelspec": {
   "display_name": "Python 3",
   "language": "python",
   "name": "python3"
  },
  "language_info": {
   "codemirror_mode": {
    "name": "ipython",
    "version": 3
   },
   "file_extension": ".py",
   "mimetype": "text/x-python",
   "name": "python",
   "nbconvert_exporter": "python",
   "pygments_lexer": "ipython3",
   "version": "3.6.4"
  }
 },
 "nbformat": 4,
 "nbformat_minor": 2
}
