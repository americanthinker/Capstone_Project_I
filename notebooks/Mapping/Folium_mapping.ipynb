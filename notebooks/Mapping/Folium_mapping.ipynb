{
 "cells": [
  {
   "cell_type": "code",
   "execution_count": 18,
   "metadata": {},
   "outputs": [],
   "source": [
    "import folium\n",
    "#geopy imports \n",
    "from geopy.extra.rate_limiter import RateLimiter\n",
    "from geopy import Nominatim\n",
    "\n",
    "#geocode for physical address to lat/long lookup\n",
    "locator = Nominatim(user_agent=\"myGeocoder\")\n",
    "geocode = RateLimiter(locator.geocode, min_delay_seconds=1)\n",
    "pd.set_option('display.max_rows', 200)"
   ]
  },
  {
   "cell_type": "code",
   "execution_count": 2,
   "metadata": {},
   "outputs": [],
   "source": [
    "vets = pd.read_csv('vets_mapped.csv',  encoding=\"ISO-8859-1\")\n",
    "data = vets['Combined'].value_counts()"
   ]
  },
  {
   "cell_type": "code",
   "execution_count": 11,
   "metadata": {},
   "outputs": [],
   "source": [
    "data = data.to_frame()\n",
    "data['Location'] = data.index\n",
    "data.index = range(len(data))\n",
    "\n",
    "#Drop 'USA' entries (they plot in the middle of Kansas) and reindex to length of data\n",
    "data.drop(2, inplace=True)\n",
    "data.index = range(len(data))"
   ]
  },
  {
   "cell_type": "code",
   "execution_count": 15,
   "metadata": {},
   "outputs": [],
   "source": [
    "data.drop(188, inplace=True)"
   ]
  },
  {
   "cell_type": "code",
   "execution_count": 16,
   "metadata": {},
   "outputs": [],
   "source": [
    "data['Location'] = data['Location'].str.split(',').apply(lambda x: x[0]) + ',' + data['Location'].str.split(',').apply(lambda x: x[1]).str.replace('CA', \"California\")"
   ]
  },
  {
   "cell_type": "code",
   "execution_count": 19,
   "metadata": {},
   "outputs": [],
   "source": [
    "data['Coordinates'] = data['Location'].apply(geocode)"
   ]
  },
  {
   "cell_type": "code",
   "execution_count": 21,
   "metadata": {},
   "outputs": [],
   "source": [
    "#convert coordinates to individual lat and longs\n",
    "data['point'] = data['Coordinates'].apply(lambda loc: tuple(loc.point) if loc else None)\n",
    "data[['latitude', 'longitude', 'altitude']] = pd.DataFrame(data['point'].tolist(), index=data.index)"
   ]
  },
  {
   "cell_type": "code",
   "execution_count": 24,
   "metadata": {},
   "outputs": [],
   "source": [
    "data.drop(['point', 'altitude'], axis=1, inplace=True)"
   ]
  },
  {
   "cell_type": "code",
   "execution_count": 38,
   "metadata": {},
   "outputs": [
    {
     "data": {
      "text/html": [
       "<div>\n",
       "<style scoped>\n",
       "    .dataframe tbody tr th:only-of-type {\n",
       "        vertical-align: middle;\n",
       "    }\n",
       "\n",
       "    .dataframe tbody tr th {\n",
       "        vertical-align: top;\n",
       "    }\n",
       "\n",
       "    .dataframe thead th {\n",
       "        text-align: right;\n",
       "    }\n",
       "</style>\n",
       "<table border=\"1\" class=\"dataframe\">\n",
       "  <thead>\n",
       "    <tr style=\"text-align: right;\">\n",
       "      <th></th>\n",
       "      <th>Combined</th>\n",
       "      <th>Location</th>\n",
       "      <th>Coordinates</th>\n",
       "      <th>latitude</th>\n",
       "      <th>longitude</th>\n",
       "    </tr>\n",
       "  </thead>\n",
       "  <tbody>\n",
       "    <tr>\n",
       "      <th>0</th>\n",
       "      <td>92</td>\n",
       "      <td>San Diego, California</td>\n",
       "      <td>(San Diego, San Diego County, California, Unit...</td>\n",
       "      <td>32.717421</td>\n",
       "      <td>-117.162771</td>\n",
       "    </tr>\n",
       "    <tr>\n",
       "      <th>1</th>\n",
       "      <td>79</td>\n",
       "      <td>Virginia Beach, VA</td>\n",
       "      <td>(Virginia Beach, Virginia Beach (city), Virgin...</td>\n",
       "      <td>36.852984</td>\n",
       "      <td>-75.977418</td>\n",
       "    </tr>\n",
       "    <tr>\n",
       "      <th>2</th>\n",
       "      <td>29</td>\n",
       "      <td>Washington, DC</td>\n",
       "      <td>(Washington, District of Columbia, 20230, Unit...</td>\n",
       "      <td>38.894992</td>\n",
       "      <td>-77.036558</td>\n",
       "    </tr>\n",
       "    <tr>\n",
       "      <th>3</th>\n",
       "      <td>26</td>\n",
       "      <td>New York, NY</td>\n",
       "      <td>(New York, United States of America, (40.71272...</td>\n",
       "      <td>40.712728</td>\n",
       "      <td>-74.006015</td>\n",
       "    </tr>\n",
       "    <tr>\n",
       "      <th>4</th>\n",
       "      <td>24</td>\n",
       "      <td>Fayetteville, NC</td>\n",
       "      <td>(Fayetteville, Cumberland County, North Caroli...</td>\n",
       "      <td>35.052576</td>\n",
       "      <td>-78.878292</td>\n",
       "    </tr>\n",
       "  </tbody>\n",
       "</table>\n",
       "</div>"
      ],
      "text/plain": [
       "   Combined               Location                                        Coordinates   latitude   longitude\n",
       "0        92  San Diego, California  (San Diego, San Diego County, California, Unit...  32.717421 -117.162771\n",
       "1        79     Virginia Beach, VA  (Virginia Beach, Virginia Beach (city), Virgin...  36.852984  -75.977418\n",
       "2        29         Washington, DC  (Washington, District of Columbia, 20230, Unit...  38.894992  -77.036558\n",
       "3        26           New York, NY  (New York, United States of America, (40.71272...  40.712728  -74.006015\n",
       "4        24       Fayetteville, NC  (Fayetteville, Cumberland County, North Caroli...  35.052576  -78.878292"
      ]
     },
     "execution_count": 38,
     "metadata": {},
     "output_type": "execute_result"
    }
   ],
   "source": [
    "data.head()"
   ]
  },
  {
   "cell_type": "code",
   "execution_count": 40,
   "metadata": {},
   "outputs": [],
   "source": [
    "data.to_csv('Mapping/vets_coords.csv', index=False)"
   ]
  },
  {
   "cell_type": "code",
   "execution_count": 26,
   "metadata": {},
   "outputs": [],
   "source": [
    "#base coordinates\n",
    "USA = (39.8283, 98.5795)\n",
    " \n",
    "# for speed purposes\n",
    "MAX_RECORDS = 1000\n",
    "  \n",
    "# create empty map zoomed in on geographic center of US\n",
    "m = folium.Map(location=USA, zoom_start=5)"
   ]
  },
  {
   "cell_type": "code",
   "execution_count": null,
   "metadata": {},
   "outputs": [],
   "source": [
    "# add a marker for every record in the filtered data, use a clustered view\n",
    "for each in crimedata[0:MAX_RECORDS].iterrows():\n",
    "    map.simple_marker(\n",
    "        location = [each[1]['Y'],each[1]['X']], \n",
    "        clustered_marker = True)\n",
    "  \n",
    "display(map)"
   ]
  },
  {
   "cell_type": "code",
   "execution_count": null,
   "metadata": {},
   "outputs": [],
   "source": []
  },
  {
   "cell_type": "code",
   "execution_count": 37,
   "metadata": {},
   "outputs": [
    {
     "ename": "ModuleNotFoundError",
     "evalue": "No module named 'plotly'",
     "output_type": "error",
     "traceback": [
      "\u001b[0;31m---------------------------------------------------------------------------\u001b[0m",
      "\u001b[0;31mModuleNotFoundError\u001b[0m                       Traceback (most recent call last)",
      "\u001b[0;32m<ipython-input-37-818d114f26f1>\u001b[0m in \u001b[0;36m<module>\u001b[0;34m\u001b[0m\n\u001b[0;32m----> 1\u001b[0;31m \u001b[0;32mimport\u001b[0m \u001b[0mplotly\u001b[0m\u001b[0;34m.\u001b[0m\u001b[0mgraph_objects\u001b[0m \u001b[0;32mas\u001b[0m \u001b[0mgo\u001b[0m\u001b[0;34m\u001b[0m\u001b[0m\n\u001b[0m\u001b[1;32m      2\u001b[0m \u001b[0;34m\u001b[0m\u001b[0m\n\u001b[1;32m      3\u001b[0m \u001b[0;32mimport\u001b[0m \u001b[0mpandas\u001b[0m \u001b[0;32mas\u001b[0m \u001b[0mpd\u001b[0m\u001b[0;34m\u001b[0m\u001b[0m\n\u001b[1;32m      4\u001b[0m \u001b[0;34m\u001b[0m\u001b[0m\n\u001b[1;32m      5\u001b[0m \u001b[0mdf\u001b[0m \u001b[0;34m=\u001b[0m \u001b[0mpd\u001b[0m\u001b[0;34m.\u001b[0m\u001b[0mread_csv\u001b[0m\u001b[0;34m(\u001b[0m\u001b[0;34m'https://raw.githubusercontent.com/plotly/datasets/master/2011_february_us_airport_traffic.csv'\u001b[0m\u001b[0;34m)\u001b[0m\u001b[0;34m\u001b[0m\u001b[0m\n",
      "\u001b[0;31mModuleNotFoundError\u001b[0m: No module named 'plotly'"
     ]
    }
   ],
   "source": [
    "import plotly.graph_objects as go\n",
    "\n",
    "import pandas as pd\n",
    "\n",
    "df = pd.read_csv('https://raw.githubusercontent.com/plotly/datasets/master/2011_february_us_airport_traffic.csv')\n",
    "df['text'] = df['airport'] + '' + df['city'] + ', ' + df['state'] + '' + 'Arrivals: ' + df['cnt'].astype(str)\n",
    "\n",
    "\n",
    "fig = go.Figure(data=go.Scattergeo(\n",
    "        locationmode = 'USA-states',\n",
    "        lon = df['long'],\n",
    "        lat = df['lat'],\n",
    "        text = df['text'],\n",
    "        mode = 'markers',\n",
    "        marker = dict(\n",
    "            size = 8,\n",
    "            opacity = 0.8,\n",
    "            reversescale = True,\n",
    "            autocolorscale = False,\n",
    "            symbol = 'square',\n",
    "            line = dict(\n",
    "                width=1,\n",
    "                color='rgba(102, 102, 102)'\n",
    "            ),\n",
    "            colorscale = 'Blues',\n",
    "            cmin = 0,\n",
    "            color = df['cnt'],\n",
    "            cmax = df['cnt'].max(),\n",
    "            colorbar_title=\"Incoming flights<br>February 2011\"\n",
    "        )))\n",
    "\n",
    "fig.update_layout(\n",
    "        title = 'Most trafficked US airports<br>(Hover for airport names)',\n",
    "        geo = dict(\n",
    "            scope='usa',\n",
    "            projection_type='albers usa',\n",
    "            showland = True,\n",
    "            landcolor = \"rgb(250, 250, 250)\",\n",
    "            subunitcolor = \"rgb(217, 217, 217)\",\n",
    "            countrycolor = \"rgb(217, 217, 217)\",\n",
    "            countrywidth = 0.5,\n",
    "            subunitwidth = 0.5\n",
    "        ),\n",
    "    )\n",
    "fig.show()"
   ]
  },
  {
   "cell_type": "code",
   "execution_count": null,
   "metadata": {},
   "outputs": [],
   "source": []
  },
  {
   "cell_type": "code",
   "execution_count": null,
   "metadata": {},
   "outputs": [],
   "source": []
  }
 ],
 "metadata": {
  "kernelspec": {
   "display_name": "Cap_Project",
   "language": "python",
   "name": "cap_project"
  },
  "language_info": {
   "codemirror_mode": {
    "name": "ipython",
    "version": 3
   },
   "file_extension": ".py",
   "mimetype": "text/x-python",
   "name": "python",
   "nbconvert_exporter": "python",
   "pygments_lexer": "ipython3",
   "version": "3.6.4"
  }
 },
 "nbformat": 4,
 "nbformat_minor": 4
}
