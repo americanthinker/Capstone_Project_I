{
 "cells": [
  {
   "cell_type": "markdown",
   "metadata": {},
   "source": [
    "### Import Geopy modules for geo-coding"
   ]
  },
  {
   "cell_type": "code",
   "execution_count": 1,
   "metadata": {},
   "outputs": [],
   "source": [
    "#geopy imports \n",
    "from geopy.extra.rate_limiter import RateLimiter\n",
    "from geopy import Nominatim\n",
    "\n",
    "#geocode for physical address to lat/long lookup\n",
    "locator = Nominatim(user_agent=\"myGeocoder\")\n",
    "geocode = RateLimiter(locator.geocode, min_delay_seconds=1)"
   ]
  },
  {
   "cell_type": "markdown",
   "metadata": {},
   "source": [
    "### Import Gmaps packages"
   ]
  },
  {
   "cell_type": "code",
   "execution_count": 2,
   "metadata": {},
   "outputs": [],
   "source": [
    "import os\n",
    "import gmaps\n",
    "gmaps.configure(api_key=os.environ['GOOGLE_API_KEY'])"
   ]
  },
  {
   "cell_type": "markdown",
   "metadata": {},
   "source": [
    "### Set Jupyter Notebook configs"
   ]
  },
  {
   "cell_type": "code",
   "execution_count": 3,
   "metadata": {},
   "outputs": [],
   "source": [
    "#set jp options\n",
    "pd.set_option('display.max_colwidth', 300)\n",
    "pd.set_option('display.max_rows', 900)\n",
    "from IPython.core.interactiveshell import InteractiveShell\n",
    "InteractiveShell.ast_node_interactivity = \"all\""
   ]
  },
  {
   "cell_type": "markdown",
   "metadata": {},
   "source": [
    "### Import dataset and munge for use in mapping"
   ]
  },
  {
   "cell_type": "code",
   "execution_count": 51,
   "metadata": {},
   "outputs": [],
   "source": [
    "vets = pd.read_csv('vets_mapped.csv',  encoding=\"ISO-8859-1\")\n",
    "data = vets['Combined'].value_counts()"
   ]
  },
  {
   "cell_type": "code",
   "execution_count": 52,
   "metadata": {},
   "outputs": [],
   "source": [
    "data = data.to_frame()\n",
    "data['Location'] = data.index\n",
    "data.index = range(len(data))\n",
    "\n",
    "#Drop 'USA' entries (they plot in the middle of Kansas) and reindex to length of data\n",
    "data.drop(2, inplace=True)\n",
    "data.index = range(len(data))"
   ]
  },
  {
   "cell_type": "code",
   "execution_count": 61,
   "metadata": {},
   "outputs": [],
   "source": [
    "#Change from CA to \"California\" to prevent confustion with CAnada in gmaps\n",
    "data['Location'] = data['Location'].str.split(',').apply(lambda x: x[0]) + ',' + data['Location'].str.split(',').apply(lambda x: x[1]).str.replace('CA', \"California\")"
   ]
  },
  {
   "cell_type": "code",
   "execution_count": 63,
   "metadata": {},
   "outputs": [
    {
     "data": {
      "text/html": [
       "<div>\n",
       "<style scoped>\n",
       "    .dataframe tbody tr th:only-of-type {\n",
       "        vertical-align: middle;\n",
       "    }\n",
       "\n",
       "    .dataframe tbody tr th {\n",
       "        vertical-align: top;\n",
       "    }\n",
       "\n",
       "    .dataframe thead th {\n",
       "        text-align: right;\n",
       "    }\n",
       "</style>\n",
       "<table border=\"1\" class=\"dataframe\">\n",
       "  <thead>\n",
       "    <tr style=\"text-align: right;\">\n",
       "      <th></th>\n",
       "      <th>Combined</th>\n",
       "      <th>Location</th>\n",
       "    </tr>\n",
       "  </thead>\n",
       "  <tbody>\n",
       "    <tr>\n",
       "      <th>0</th>\n",
       "      <td>92</td>\n",
       "      <td>San Diego, California</td>\n",
       "    </tr>\n",
       "    <tr>\n",
       "      <th>1</th>\n",
       "      <td>79</td>\n",
       "      <td>Virginia Beach, VA</td>\n",
       "    </tr>\n",
       "    <tr>\n",
       "      <th>2</th>\n",
       "      <td>29</td>\n",
       "      <td>Washington, DC</td>\n",
       "    </tr>\n",
       "    <tr>\n",
       "      <th>3</th>\n",
       "      <td>26</td>\n",
       "      <td>New York, NY</td>\n",
       "    </tr>\n",
       "    <tr>\n",
       "      <th>4</th>\n",
       "      <td>24</td>\n",
       "      <td>Fayetteville, NC</td>\n",
       "    </tr>\n",
       "  </tbody>\n",
       "</table>\n",
       "</div>"
      ],
      "text/plain": [
       "   Combined               Location\n",
       "0        92  San Diego, California\n",
       "1        79     Virginia Beach, VA\n",
       "2        29         Washington, DC\n",
       "3        26           New York, NY\n",
       "4        24       Fayetteville, NC"
      ]
     },
     "execution_count": 63,
     "metadata": {},
     "output_type": "execute_result"
    }
   ],
   "source": [
    "data.head()"
   ]
  },
  {
   "cell_type": "code",
   "execution_count": 64,
   "metadata": {},
   "outputs": [],
   "source": [
    "#create Coordinates column\n",
    "data['Coordinates'] = data['Location'].apply(geocode)"
   ]
  },
  {
   "cell_type": "code",
   "execution_count": 66,
   "metadata": {},
   "outputs": [],
   "source": [
    "#convert coordinates to individual lat and longs\n",
    "data['point'] = data['Coordinates'].apply(lambda loc: tuple(loc.point) if loc else None)\n",
    "data[['latitude', 'longitude', 'altitude']] = pd.DataFrame(data['point'].tolist(), index=data.index)"
   ]
  },
  {
   "cell_type": "code",
   "execution_count": 68,
   "metadata": {},
   "outputs": [
    {
     "data": {
      "text/html": [
       "<div>\n",
       "<style scoped>\n",
       "    .dataframe tbody tr th:only-of-type {\n",
       "        vertical-align: middle;\n",
       "    }\n",
       "\n",
       "    .dataframe tbody tr th {\n",
       "        vertical-align: top;\n",
       "    }\n",
       "\n",
       "    .dataframe thead th {\n",
       "        text-align: right;\n",
       "    }\n",
       "</style>\n",
       "<table border=\"1\" class=\"dataframe\">\n",
       "  <thead>\n",
       "    <tr style=\"text-align: right;\">\n",
       "      <th></th>\n",
       "      <th>Counts</th>\n",
       "      <th>Location</th>\n",
       "      <th>Coordinates</th>\n",
       "      <th>point</th>\n",
       "      <th>latitude</th>\n",
       "      <th>longitude</th>\n",
       "      <th>altitude</th>\n",
       "    </tr>\n",
       "  </thead>\n",
       "  <tbody>\n",
       "    <tr>\n",
       "      <th>0</th>\n",
       "      <td>92</td>\n",
       "      <td>San Diego, California</td>\n",
       "      <td>(San Diego, San Diego County, California, United States of America, (32.7174209, -117.1627714))</td>\n",
       "      <td>(32.7174209, -117.1627714, 0.0)</td>\n",
       "      <td>32.717421</td>\n",
       "      <td>-117.162771</td>\n",
       "      <td>0.0</td>\n",
       "    </tr>\n",
       "    <tr>\n",
       "      <th>1</th>\n",
       "      <td>79</td>\n",
       "      <td>Virginia Beach, VA</td>\n",
       "      <td>(Virginia Beach, Virginia Beach (city), Virginia, United States of America, (36.8529841, -75.9774183))</td>\n",
       "      <td>(36.8529841, -75.9774183, 0.0)</td>\n",
       "      <td>36.852984</td>\n",
       "      <td>-75.977418</td>\n",
       "      <td>0.0</td>\n",
       "    </tr>\n",
       "    <tr>\n",
       "      <th>2</th>\n",
       "      <td>29</td>\n",
       "      <td>Washington, DC</td>\n",
       "      <td>(Washington, District of Columbia, 20230, United States of America, (38.8949924, -77.0365581))</td>\n",
       "      <td>(38.8949924, -77.0365581, 0.0)</td>\n",
       "      <td>38.894992</td>\n",
       "      <td>-77.036558</td>\n",
       "      <td>0.0</td>\n",
       "    </tr>\n",
       "    <tr>\n",
       "      <th>3</th>\n",
       "      <td>26</td>\n",
       "      <td>New York, NY</td>\n",
       "      <td>(New York, United States of America, (40.7127281, -74.0060152))</td>\n",
       "      <td>(40.7127281, -74.0060152, 0.0)</td>\n",
       "      <td>40.712728</td>\n",
       "      <td>-74.006015</td>\n",
       "      <td>0.0</td>\n",
       "    </tr>\n",
       "    <tr>\n",
       "      <th>4</th>\n",
       "      <td>24</td>\n",
       "      <td>Fayetteville, NC</td>\n",
       "      <td>(Fayetteville, Cumberland County, North Carolina, United States of America, (35.0525759, -78.878292))</td>\n",
       "      <td>(35.0525759, -78.878292, 0.0)</td>\n",
       "      <td>35.052576</td>\n",
       "      <td>-78.878292</td>\n",
       "      <td>0.0</td>\n",
       "    </tr>\n",
       "  </tbody>\n",
       "</table>\n",
       "</div>"
      ],
      "text/plain": [
       "   Counts               Location                                                                                             Coordinates                            point   latitude   longitude  altitude\n",
       "0      92  San Diego, California         (San Diego, San Diego County, California, United States of America, (32.7174209, -117.1627714))  (32.7174209, -117.1627714, 0.0)  32.717421 -117.162771       0.0\n",
       "1      79     Virginia Beach, VA  (Virginia Beach, Virginia Beach (city), Virginia, United States of America, (36.8529841, -75.9774183))   (36.8529841, -75.9774183, 0.0)  36.852984  -75.977418       0.0\n",
       "2      29         Washington, DC          (Washington, District of Columbia, 20230, United States of America, (38.8949924, -77.0365581))   (38.8949924, -77.0365581, 0.0)  38.894992  -77.036558       0.0\n",
       "3      26           New York, NY                                         (New York, United States of America, (40.7127281, -74.0060152))   (40.7127281, -74.0060152, 0.0)  40.712728  -74.006015       0.0\n",
       "4      24       Fayetteville, NC   (Fayetteville, Cumberland County, North Carolina, United States of America, (35.0525759, -78.878292))    (35.0525759, -78.878292, 0.0)  35.052576  -78.878292       0.0"
      ]
     },
     "execution_count": 68,
     "metadata": {},
     "output_type": "execute_result"
    }
   ],
   "source": [
    "#rename 'Combined' column and then makes sure all is well\n",
    "data.rename(columns={'Combined':'Counts'}, inplace=True)\n",
    "data.head()"
   ]
  },
  {
   "cell_type": "code",
   "execution_count": 71,
   "metadata": {},
   "outputs": [],
   "source": [
    "#finalize data structure for input into heatmap\n",
    "final_data = data[['latitude', 'longitude', 'Counts']]"
   ]
  },
  {
   "cell_type": "code",
   "execution_count": 77,
   "metadata": {},
   "outputs": [],
   "source": [
    "#remove NaN value and reindex\n",
    "final_data.drop(150, inplace=True)\n",
    "final_data.index = range(len(final_data))"
   ]
  },
  {
   "cell_type": "code",
   "execution_count": 96,
   "metadata": {},
   "outputs": [
    {
     "data": {
      "text/plain": [
       "(718, 718)"
      ]
     },
     "execution_count": 96,
     "metadata": {},
     "output_type": "execute_result"
    }
   ],
   "source": [
    "#create jitter in data points, should end up with 718 points\n",
    "lat = []\n",
    "long = []\n",
    "for item in list(final_data.iterrows()):\n",
    "    for x in range(int(item[1]['Counts'])):\n",
    "        lat.append(item[1]['latitude'] + np.random.uniform()/5)\n",
    "        long.append(item[1]['longitude'] + np.random.uniform()/5)\n",
    "len(lat), len(long)"
   ]
  },
  {
   "cell_type": "code",
   "execution_count": 97,
   "metadata": {},
   "outputs": [
    {
     "data": {
      "text/html": [
       "<div>\n",
       "<style scoped>\n",
       "    .dataframe tbody tr th:only-of-type {\n",
       "        vertical-align: middle;\n",
       "    }\n",
       "\n",
       "    .dataframe tbody tr th {\n",
       "        vertical-align: top;\n",
       "    }\n",
       "\n",
       "    .dataframe thead th {\n",
       "        text-align: right;\n",
       "    }\n",
       "</style>\n",
       "<table border=\"1\" class=\"dataframe\">\n",
       "  <thead>\n",
       "    <tr style=\"text-align: right;\">\n",
       "      <th></th>\n",
       "      <th>latitude</th>\n",
       "      <th>longitude</th>\n",
       "    </tr>\n",
       "  </thead>\n",
       "  <tbody>\n",
       "    <tr>\n",
       "      <th>0</th>\n",
       "      <td>32.835394</td>\n",
       "      <td>-117.041383</td>\n",
       "    </tr>\n",
       "    <tr>\n",
       "      <th>1</th>\n",
       "      <td>32.807472</td>\n",
       "      <td>-117.112606</td>\n",
       "    </tr>\n",
       "    <tr>\n",
       "      <th>2</th>\n",
       "      <td>32.842585</td>\n",
       "      <td>-117.085317</td>\n",
       "    </tr>\n",
       "    <tr>\n",
       "      <th>3</th>\n",
       "      <td>32.793187</td>\n",
       "      <td>-116.964215</td>\n",
       "    </tr>\n",
       "    <tr>\n",
       "      <th>4</th>\n",
       "      <td>32.896662</td>\n",
       "      <td>-117.110624</td>\n",
       "    </tr>\n",
       "  </tbody>\n",
       "</table>\n",
       "</div>"
      ],
      "text/plain": [
       "    latitude   longitude\n",
       "0  32.835394 -117.041383\n",
       "1  32.807472 -117.112606\n",
       "2  32.842585 -117.085317\n",
       "3  32.793187 -116.964215\n",
       "4  32.896662 -117.110624"
      ]
     },
     "execution_count": 97,
     "metadata": {},
     "output_type": "execute_result"
    }
   ],
   "source": [
    "#create new DataFrame of points for entry into mapping tool\n",
    "coords = pd.DataFrame(zip(lat, long), columns=['latitude', 'longitude'])\n",
    "coords.head()"
   ]
  },
  {
   "cell_type": "code",
   "execution_count": 98,
   "metadata": {},
   "outputs": [],
   "source": [
    "coords.to_csv('../data/coords.csv', index=False)"
   ]
  },
  {
   "cell_type": "markdown",
   "metadata": {},
   "source": [
    "### Mapping Time!"
   ]
  },
  {
   "cell_type": "code",
   "execution_count": 4,
   "metadata": {},
   "outputs": [],
   "source": [
    "coords = pd.read_csv('../data/coords.csv')"
   ]
  },
  {
   "cell_type": "code",
   "execution_count": 12,
   "metadata": {},
   "outputs": [],
   "source": [
    "newfig = gmaps.figure(map_type='SATELLITE')\n",
    "newfig.add_layer(gmaps.heatmap_layer(coords, max_intensity=2, point_radius=10, opacity=0.8))"
   ]
  },
  {
   "cell_type": "code",
   "execution_count": 13,
   "metadata": {},
   "outputs": [
    {
     "data": {
      "text/plain": [
       "'SATELLITE'"
      ]
     },
     "execution_count": 13,
     "metadata": {},
     "output_type": "execute_result"
    }
   ],
   "source": [
    "newfig.map_type"
   ]
  },
  {
   "cell_type": "code",
   "execution_count": 14,
   "metadata": {},
   "outputs": [
    {
     "data": {
      "application/vnd.jupyter.widget-view+json": {
       "model_id": "c742e55afd3446fa872ae05ee7ba5e2f",
       "version_major": 2,
       "version_minor": 0
      },
      "text/plain": [
       "Figure(layout=FigureLayout(height='420px'))"
      ]
     },
     "metadata": {},
     "output_type": "display_data"
    }
   ],
   "source": [
    "newfig"
   ]
  },
  {
   "cell_type": "code",
   "execution_count": null,
   "metadata": {},
   "outputs": [],
   "source": []
  }
 ],
 "metadata": {
  "kernelspec": {
   "display_name": "Cap_Project",
   "language": "python",
   "name": "cap_project"
  },
  "language_info": {
   "codemirror_mode": {
    "name": "ipython",
    "version": 3
   },
   "file_extension": ".py",
   "mimetype": "text/x-python",
   "name": "python",
   "nbconvert_exporter": "python",
   "pygments_lexer": "ipython3",
   "version": "3.6.4"
  }
 },
 "nbformat": 4,
 "nbformat_minor": 2
}
