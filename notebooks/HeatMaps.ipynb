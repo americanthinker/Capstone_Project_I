{
 "cells": [
  {
   "cell_type": "markdown",
   "metadata": {},
   "source": [
    "### Import Geopy modules for geo-coding"
   ]
  },
  {
   "cell_type": "code",
   "execution_count": 1,
   "metadata": {},
   "outputs": [],
   "source": [
    "#geopy imports \n",
    "from geopy.extra.rate_limiter import RateLimiter\n",
    "from geopy import Nominatim\n",
    "locator = Nominatim(user_agent=\"myGeocoder\")\n",
    "geocode = RateLimiter(locator.geocode, min_delay_seconds=1)"
   ]
  },
  {
   "cell_type": "markdown",
   "metadata": {},
   "source": [
    "### Import Folium modules for mapping"
   ]
  },
  {
   "cell_type": "code",
   "execution_count": 33,
   "metadata": {},
   "outputs": [],
   "source": [
    "#folium imports\n",
    "import folium\n",
    "from folium import Map\n",
    "from folium.plugins import HeatMap"
   ]
  },
  {
   "cell_type": "markdown",
   "metadata": {},
   "source": [
    "### Set Jupyter Notebook configs"
   ]
  },
  {
   "cell_type": "code",
   "execution_count": 3,
   "metadata": {},
   "outputs": [],
   "source": [
    "#set jp options\n",
    "pd.set_option('display.max_colwidth', 300)\n",
    "pd.set_option('display.max_rows', 900)\n",
    "from IPython.core.interactiveshell import InteractiveShell\n",
    "InteractiveShell.ast_node_interactivity = \"all\""
   ]
  },
  {
   "cell_type": "markdown",
   "metadata": {},
   "source": [
    "### Import dataset and munge for use in mapping"
   ]
  },
  {
   "cell_type": "code",
   "execution_count": 38,
   "metadata": {},
   "outputs": [],
   "source": [
    "vets = pd.read_csv('../data/vets_SOF.csv',  encoding=\"ISO-8859-1\")\n",
    "vets['Location'] = vets['City'] + ', ' + vets['State']"
   ]
  },
  {
   "cell_type": "code",
   "execution_count": 56,
   "metadata": {},
   "outputs": [],
   "source": [
    "data = vets['Location'].value_counts().rename_axis('Location').reset_index(name='Counts')\n",
    "\n",
    "#remove artifacts\n",
    "data = data[data['Location'] != 'OCONUS, OCONUS']\n",
    "data = data[data['Location'] != 'None , None']\n",
    "data = data[data['Location'] != 'Si, CO']"
   ]
  },
  {
   "cell_type": "code",
   "execution_count": 59,
   "metadata": {},
   "outputs": [
    {
     "data": {
      "text/html": [
       "<div>\n",
       "<style scoped>\n",
       "    .dataframe tbody tr th:only-of-type {\n",
       "        vertical-align: middle;\n",
       "    }\n",
       "\n",
       "    .dataframe tbody tr th {\n",
       "        vertical-align: top;\n",
       "    }\n",
       "\n",
       "    .dataframe thead th {\n",
       "        text-align: right;\n",
       "    }\n",
       "</style>\n",
       "<table border=\"1\" class=\"dataframe\">\n",
       "  <thead>\n",
       "    <tr style=\"text-align: right;\">\n",
       "      <th></th>\n",
       "      <th>Location</th>\n",
       "      <th>Counts</th>\n",
       "    </tr>\n",
       "  </thead>\n",
       "  <tbody>\n",
       "    <tr>\n",
       "      <th>0</th>\n",
       "      <td>San Diego, CA</td>\n",
       "      <td>92</td>\n",
       "    </tr>\n",
       "    <tr>\n",
       "      <th>1</th>\n",
       "      <td>Virginia Beach, VA</td>\n",
       "      <td>79</td>\n",
       "    </tr>\n",
       "    <tr>\n",
       "      <th>2</th>\n",
       "      <td>USA, USA</td>\n",
       "      <td>32</td>\n",
       "    </tr>\n",
       "    <tr>\n",
       "      <th>3</th>\n",
       "      <td>Washington, DC</td>\n",
       "      <td>30</td>\n",
       "    </tr>\n",
       "    <tr>\n",
       "      <th>4</th>\n",
       "      <td>New York, NY</td>\n",
       "      <td>26</td>\n",
       "    </tr>\n",
       "  </tbody>\n",
       "</table>\n",
       "</div>"
      ],
      "text/plain": [
       "             Location  Counts\n",
       "0       San Diego, CA      92\n",
       "1  Virginia Beach, VA      79\n",
       "2            USA, USA      32\n",
       "3      Washington, DC      30\n",
       "4        New York, NY      26"
      ]
     },
     "execution_count": 59,
     "metadata": {},
     "output_type": "execute_result"
    }
   ],
   "source": [
    "#check to ensure that I have the data in the correct Location, Count format\n",
    "data.head()"
   ]
  },
  {
   "cell_type": "code",
   "execution_count": 60,
   "metadata": {},
   "outputs": [],
   "source": [
    "#convert physical locations to coordinates\n",
    "geocode = RateLimiter(locator.geocode, min_delay_seconds=1)\n",
    "data['Coordinates'] = data['Location'].apply(geocode)\n",
    "\n",
    "#convert coordinates to individual lat and longs\n",
    "data['point'] = data['Coordinates'].apply(lambda loc: tuple(loc.point) if loc else None)\n",
    "data[['latitude', 'longitude', 'altitude']] = pd.DataFrame(data['point'].tolist(), index=data.index)"
   ]
  },
  {
   "cell_type": "code",
   "execution_count": 66,
   "metadata": {},
   "outputs": [
    {
     "data": {
      "text/html": [
       "<div>\n",
       "<style scoped>\n",
       "    .dataframe tbody tr th:only-of-type {\n",
       "        vertical-align: middle;\n",
       "    }\n",
       "\n",
       "    .dataframe tbody tr th {\n",
       "        vertical-align: top;\n",
       "    }\n",
       "\n",
       "    .dataframe thead th {\n",
       "        text-align: right;\n",
       "    }\n",
       "</style>\n",
       "<table border=\"1\" class=\"dataframe\">\n",
       "  <thead>\n",
       "    <tr style=\"text-align: right;\">\n",
       "      <th></th>\n",
       "      <th>Location</th>\n",
       "      <th>Counts</th>\n",
       "      <th>Coordinates</th>\n",
       "      <th>point</th>\n",
       "      <th>latitude</th>\n",
       "      <th>longitude</th>\n",
       "      <th>altitude</th>\n",
       "    </tr>\n",
       "  </thead>\n",
       "  <tbody>\n",
       "    <tr>\n",
       "      <th>0</th>\n",
       "      <td>San Diego, CA</td>\n",
       "      <td>92</td>\n",
       "      <td>(San Diego, San Diego County, California, United States of America, (32.7174209, -117.1627714))</td>\n",
       "      <td>(32.7174209, -117.1627714, 0.0)</td>\n",
       "      <td>32.717421</td>\n",
       "      <td>-117.162771</td>\n",
       "      <td>0.0</td>\n",
       "    </tr>\n",
       "    <tr>\n",
       "      <th>1</th>\n",
       "      <td>Virginia Beach, VA</td>\n",
       "      <td>79</td>\n",
       "      <td>(Virginia Beach, Virginia Beach (city), Virginia, United States of America, (36.8529841, -75.9774183))</td>\n",
       "      <td>(36.8529841, -75.9774183, 0.0)</td>\n",
       "      <td>36.852984</td>\n",
       "      <td>-75.977418</td>\n",
       "      <td>0.0</td>\n",
       "    </tr>\n",
       "    <tr>\n",
       "      <th>2</th>\n",
       "      <td>USA, USA</td>\n",
       "      <td>32</td>\n",
       "      <td>(United States, (39.7837304, -100.4458825))</td>\n",
       "      <td>(39.7837304, -100.4458825, 0.0)</td>\n",
       "      <td>39.783730</td>\n",
       "      <td>-100.445882</td>\n",
       "      <td>0.0</td>\n",
       "    </tr>\n",
       "    <tr>\n",
       "      <th>3</th>\n",
       "      <td>Washington, DC</td>\n",
       "      <td>30</td>\n",
       "      <td>(Washington, District of Columbia, 20230, United States of America, (38.8949924, -77.0365581))</td>\n",
       "      <td>(38.8949924, -77.0365581, 0.0)</td>\n",
       "      <td>38.894992</td>\n",
       "      <td>-77.036558</td>\n",
       "      <td>0.0</td>\n",
       "    </tr>\n",
       "    <tr>\n",
       "      <th>4</th>\n",
       "      <td>New York, NY</td>\n",
       "      <td>26</td>\n",
       "      <td>(New York, United States of America, (40.7127281, -74.0060152))</td>\n",
       "      <td>(40.7127281, -74.0060152, 0.0)</td>\n",
       "      <td>40.712728</td>\n",
       "      <td>-74.006015</td>\n",
       "      <td>0.0</td>\n",
       "    </tr>\n",
       "  </tbody>\n",
       "</table>\n",
       "</div>"
      ],
      "text/plain": [
       "             Location  Counts                                                                                             Coordinates                            point   latitude   longitude  altitude\n",
       "0       San Diego, CA      92         (San Diego, San Diego County, California, United States of America, (32.7174209, -117.1627714))  (32.7174209, -117.1627714, 0.0)  32.717421 -117.162771       0.0\n",
       "1  Virginia Beach, VA      79  (Virginia Beach, Virginia Beach (city), Virginia, United States of America, (36.8529841, -75.9774183))   (36.8529841, -75.9774183, 0.0)  36.852984  -75.977418       0.0\n",
       "2            USA, USA      32                                                             (United States, (39.7837304, -100.4458825))  (39.7837304, -100.4458825, 0.0)  39.783730 -100.445882       0.0\n",
       "3      Washington, DC      30          (Washington, District of Columbia, 20230, United States of America, (38.8949924, -77.0365581))   (38.8949924, -77.0365581, 0.0)  38.894992  -77.036558       0.0\n",
       "4        New York, NY      26                                         (New York, United States of America, (40.7127281, -74.0060152))   (40.7127281, -74.0060152, 0.0)  40.712728  -74.006015       0.0"
      ]
     },
     "execution_count": 66,
     "metadata": {},
     "output_type": "execute_result"
    }
   ],
   "source": [
    "#ensure that I have the points in the right place\n",
    "data.head()"
   ]
  },
  {
   "cell_type": "code",
   "execution_count": 68,
   "metadata": {},
   "outputs": [],
   "source": [
    "#standardize weights to between 0 and 1\n",
    "data['Counts'] = data['Counts']/max(data['Counts'])\n",
    "\n",
    "#finalize data structure for input into heatmap\n",
    "final_data = data[['latitude', 'longitude', 'Counts']].values"
   ]
  },
  {
   "cell_type": "markdown",
   "metadata": {},
   "source": [
    "### Create base map and HeatMap"
   ]
  },
  {
   "cell_type": "code",
   "execution_count": 72,
   "metadata": {
    "scrolled": true
   },
   "outputs": [
    {
     "data": {
      "text/plain": [
       "<folium.plugins.heat_map.HeatMap at 0x1224dbe10>"
      ]
     },
     "execution_count": 72,
     "metadata": {},
     "output_type": "execute_result"
    },
    {
     "data": {
      "text/html": [
       "<div style=\"width:100%;\"><div style=\"position:relative;width:100%;height:0;padding-bottom:60%;\"><span style=\"color:#565656\">Make this Notebook Trusted to load map: File -> Trust Notebook</span><iframe src=\"about:blank\" style=\"position:absolute;width:100%;height:100%;left:0;top:0;border:none !important;\" data-html=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 onload=\"this.contentDocument.open();this.contentDocument.write(atob(this.getAttribute('data-html')));this.contentDocument.close();\" allowfullscreen webkitallowfullscreen mozallowfullscreen></iframe></div></div>"
      ],
      "text/plain": [
       "<folium.folium.Map at 0x1224dbcf8>"
      ]
     },
     "execution_count": 72,
     "metadata": {},
     "output_type": "execute_result"
    }
   ],
   "source": [
    "#get base coordinates of USA\n",
    "base = locator.geocode('USA')\n",
    "base_coords = base[-1]\n",
    "\n",
    "#initialize base map\n",
    "base_map = Map(location=base_coords, control_scale=True, zoom_start=5)\n",
    "\n",
    "#generate HeatMap\n",
    "HeatMap(final_data, min_opacity=1, radius=9).add_to(base_map)\n",
    "base_map"
   ]
  },
  {
   "cell_type": "code",
   "execution_count": 73,
   "metadata": {},
   "outputs": [],
   "source": [
    "data.to_csv('../data/cleaned_data.csv')"
   ]
  },
  {
   "cell_type": "code",
   "execution_count": 74,
   "metadata": {},
   "outputs": [
    {
     "name": "stdout",
     "output_type": "stream",
     "text": [
      "<class 'pandas.core.frame.DataFrame'>\n",
      "RangeIndex: 754 entries, 0 to 753\n",
      "Data columns (total 32 columns):\n",
      " #   Column                                  Non-Null Count  Dtype  \n",
      "---  ------                                  --------------  -----  \n",
      " 0   Unnamed: 0                              754 non-null    int64  \n",
      " 1   Id                                      754 non-null    object \n",
      " 2   Birthdate                               78 non-null     object \n",
      " 3   CreatedDate                             754 non-null    object \n",
      " 4   Location                                754 non-null    object \n",
      " 5   City                                    754 non-null    object \n",
      " 6   State                                   754 non-null    object \n",
      " 7   How_did_you_hear_about_Elite_Meet       542 non-null    object \n",
      " 8   Your_transition_to_civilian_life_begin  453 non-null    object \n",
      " 9   Undergrad                               640 non-null    object \n",
      " 10  Undergraduate_School                    687 non-null    object \n",
      " 11  Undergrad_major                         687 non-null    object \n",
      " 12  Grad_Degree                             460 non-null    object \n",
      " 13  Graduate_School                         290 non-null    object \n",
      " 14  Grad_Degree_Type                        130 non-null    object \n",
      " 15  Years_of_Service                        717 non-null    float64\n",
      " 16  Military_specialty_in_real_words        749 non-null    object \n",
      " 17  Whichcourse                             754 non-null    object \n",
      " 18  When_did_you_graduate                   511 non-null    object \n",
      " 19  What_was_your_first_unit_after_grad     602 non-null    object \n",
      " 20  Branch                                  754 non-null    object \n",
      " 21  Tribe                                   754 non-null    object \n",
      " 22  What_locations_do_you_WANT_to_live_in   590 non-null    object \n",
      " 23  Where_do_you_NOT_WANT_to_live           442 non-null    object \n",
      " 24  What_would_be_your_ideal_next_job       527 non-null    object \n",
      " 25  Target_Industries_Pls_pick_up_to_Three  583 non-null    object \n",
      " 26  of_informational_interviews_completed   420 non-null    object \n",
      " 27  of_job_formal_interviews_completed      407 non-null    object \n",
      " 28  of_counting_getting_a_job_through_EM    491 non-null    object \n",
      " 29  What_s_more_important_to_you            577 non-null    object \n",
      " 30  How_mobile_are_you_and_your_family      512 non-null    object \n",
      " 31  Lead_RecordType                         754 non-null    object \n",
      "dtypes: float64(1), int64(1), object(30)\n",
      "memory usage: 188.6+ KB\n"
     ]
    }
   ],
   "source": [
    "vets.info()"
   ]
  },
  {
   "cell_type": "code",
   "execution_count": null,
   "metadata": {},
   "outputs": [],
   "source": []
  }
 ],
 "metadata": {
  "kernelspec": {
   "display_name": "Cap_Project",
   "language": "python",
   "name": "cap_project"
  },
  "language_info": {
   "codemirror_mode": {
    "name": "ipython",
    "version": 3
   },
   "file_extension": ".py",
   "mimetype": "text/x-python",
   "name": "python",
   "nbconvert_exporter": "python",
   "pygments_lexer": "ipython3",
   "version": "3.6.4"
  }
 },
 "nbformat": 4,
 "nbformat_minor": 2
}
